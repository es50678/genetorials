{
 "cells": [
  {
   "cell_type": "code",
   "execution_count": 5,
   "id": "8e621894",
   "metadata": {
    "tags": []
   },
   "outputs": [],
   "source": [
    "# convert to binary\n",
    "def binary_rep(n):\n",
    "    k = n\n",
    "    l = []\n",
    "    while k > 0:\n",
    "        q = int(k/2)\n",
    "        r = k%2\n",
    "        l.insert(0, r)\n",
    "        k = q\n",
    "    return l"
   ]
  },
  {
   "cell_type": "code",
   "execution_count": 6,
   "id": "exciting-investing",
   "metadata": {
    "tags": []
   },
   "outputs": [
    {
     "data": {
      "text/plain": "[1, 0, 1, 0, 0, 1]"
     },
     "execution_count": 6,
     "metadata": {},
     "output_type": "execute_result"
    }
   ],
   "source": [
    "binary_rep(41)"
   ]
  },
  {
   "cell_type": "code",
   "execution_count": null,
   "id": "taken-toilet",
   "metadata": {},
   "outputs": [],
   "source": []
  }
 ],
 "metadata": {
  "kernelspec": {
   "display_name": "Python 3",
   "language": "python",
   "name": "python3"
  },
  "language_info": {
   "codemirror_mode": {
    "name": "ipython",
    "version": 3
   },
   "file_extension": ".py",
   "mimetype": "text/x-python",
   "name": "python",
   "nbconvert_exporter": "python",
   "pygments_lexer": "ipython3",
   "version": "3.7.10"
  }
 },
 "nbformat": 4,
 "nbformat_minor": 5
}